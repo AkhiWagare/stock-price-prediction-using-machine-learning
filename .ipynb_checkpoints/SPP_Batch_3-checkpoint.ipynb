{
 "cells": [
  {
   "cell_type": "code",
   "execution_count": 1,
   "id": "d1ac4c96-9529-4840-974e-63baee0539bd",
   "metadata": {},
   "outputs": [],
   "source": [
    "import numpy as np\n",
    "import pandas as pd\n",
    "import matplotlib.pyplot as plt\n",
    "import pandas_datareader as data"
   ]
  },
  {
   "cell_type": "code",
   "execution_count": 2,
   "id": "81293212-ad86-42d3-bf74-add3f91163c3",
   "metadata": {},
   "outputs": [
    {
     "name": "stdout",
     "output_type": "stream",
     "text": [
      "[*********************100%***********************]  1 of 1 completed\n"
     ]
    },
    {
     "data": {
      "text/html": [
       "<div>\n",
       "<style scoped>\n",
       "    .dataframe tbody tr th:only-of-type {\n",
       "        vertical-align: middle;\n",
       "    }\n",
       "\n",
       "    .dataframe tbody tr th {\n",
       "        vertical-align: top;\n",
       "    }\n",
       "\n",
       "    .dataframe thead th {\n",
       "        text-align: right;\n",
       "    }\n",
       "</style>\n",
       "<table border=\"1\" class=\"dataframe\">\n",
       "  <thead>\n",
       "    <tr style=\"text-align: right;\">\n",
       "      <th></th>\n",
       "      <th>Open</th>\n",
       "      <th>High</th>\n",
       "      <th>Low</th>\n",
       "      <th>Close</th>\n",
       "      <th>Adj Close</th>\n",
       "      <th>Volume</th>\n",
       "    </tr>\n",
       "    <tr>\n",
       "      <th>Date</th>\n",
       "      <th></th>\n",
       "      <th></th>\n",
       "      <th></th>\n",
       "      <th></th>\n",
       "      <th></th>\n",
       "      <th></th>\n",
       "    </tr>\n",
       "  </thead>\n",
       "  <tbody>\n",
       "    <tr>\n",
       "      <th>2013-01-02</th>\n",
       "      <td>19.779285</td>\n",
       "      <td>19.821428</td>\n",
       "      <td>19.343929</td>\n",
       "      <td>19.608213</td>\n",
       "      <td>16.791182</td>\n",
       "      <td>560518000</td>\n",
       "    </tr>\n",
       "    <tr>\n",
       "      <th>2013-01-03</th>\n",
       "      <td>19.567142</td>\n",
       "      <td>19.631071</td>\n",
       "      <td>19.321428</td>\n",
       "      <td>19.360714</td>\n",
       "      <td>16.579247</td>\n",
       "      <td>352965200</td>\n",
       "    </tr>\n",
       "    <tr>\n",
       "      <th>2013-01-04</th>\n",
       "      <td>19.177500</td>\n",
       "      <td>19.236786</td>\n",
       "      <td>18.779642</td>\n",
       "      <td>18.821428</td>\n",
       "      <td>16.117437</td>\n",
       "      <td>594333600</td>\n",
       "    </tr>\n",
       "    <tr>\n",
       "      <th>2013-01-07</th>\n",
       "      <td>18.642857</td>\n",
       "      <td>18.903570</td>\n",
       "      <td>18.400000</td>\n",
       "      <td>18.710714</td>\n",
       "      <td>16.022627</td>\n",
       "      <td>484156400</td>\n",
       "    </tr>\n",
       "    <tr>\n",
       "      <th>2013-01-08</th>\n",
       "      <td>18.900356</td>\n",
       "      <td>18.996071</td>\n",
       "      <td>18.616072</td>\n",
       "      <td>18.761070</td>\n",
       "      <td>16.065746</td>\n",
       "      <td>458707200</td>\n",
       "    </tr>\n",
       "  </tbody>\n",
       "</table>\n",
       "</div>"
      ],
      "text/plain": [
       "                 Open       High        Low      Close  Adj Close     Volume\n",
       "Date                                                                        \n",
       "2013-01-02  19.779285  19.821428  19.343929  19.608213  16.791182  560518000\n",
       "2013-01-03  19.567142  19.631071  19.321428  19.360714  16.579247  352965200\n",
       "2013-01-04  19.177500  19.236786  18.779642  18.821428  16.117437  594333600\n",
       "2013-01-07  18.642857  18.903570  18.400000  18.710714  16.022627  484156400\n",
       "2013-01-08  18.900356  18.996071  18.616072  18.761070  16.065746  458707200"
      ]
     },
     "execution_count": 2,
     "metadata": {},
     "output_type": "execute_result"
    }
   ],
   "source": [
    "start = '2013-01-01'\n",
    "end = '2022-12-31'\n",
    "\n",
    "import yfinance as yf\n",
    "df = yf.download('AAPL', start, end)\n",
    "df.head()"
   ]
  },
  {
   "cell_type": "code",
   "execution_count": 3,
   "id": "8cfbb196-d174-4443-b02c-bbdb5a10a1a6",
   "metadata": {},
   "outputs": [
    {
     "data": {
      "text/html": [
       "<div>\n",
       "<style scoped>\n",
       "    .dataframe tbody tr th:only-of-type {\n",
       "        vertical-align: middle;\n",
       "    }\n",
       "\n",
       "    .dataframe tbody tr th {\n",
       "        vertical-align: top;\n",
       "    }\n",
       "\n",
       "    .dataframe thead th {\n",
       "        text-align: right;\n",
       "    }\n",
       "</style>\n",
       "<table border=\"1\" class=\"dataframe\">\n",
       "  <thead>\n",
       "    <tr style=\"text-align: right;\">\n",
       "      <th></th>\n",
       "      <th>Open</th>\n",
       "      <th>High</th>\n",
       "      <th>Low</th>\n",
       "      <th>Close</th>\n",
       "      <th>Adj Close</th>\n",
       "      <th>Volume</th>\n",
       "    </tr>\n",
       "    <tr>\n",
       "      <th>Date</th>\n",
       "      <th></th>\n",
       "      <th></th>\n",
       "      <th></th>\n",
       "      <th></th>\n",
       "      <th></th>\n",
       "      <th></th>\n",
       "    </tr>\n",
       "  </thead>\n",
       "  <tbody>\n",
       "    <tr>\n",
       "      <th>2022-12-23</th>\n",
       "      <td>130.919998</td>\n",
       "      <td>132.419998</td>\n",
       "      <td>129.639999</td>\n",
       "      <td>131.860001</td>\n",
       "      <td>131.299820</td>\n",
       "      <td>63814900</td>\n",
       "    </tr>\n",
       "    <tr>\n",
       "      <th>2022-12-27</th>\n",
       "      <td>131.380005</td>\n",
       "      <td>131.410004</td>\n",
       "      <td>128.720001</td>\n",
       "      <td>130.029999</td>\n",
       "      <td>129.477585</td>\n",
       "      <td>69007800</td>\n",
       "    </tr>\n",
       "    <tr>\n",
       "      <th>2022-12-28</th>\n",
       "      <td>129.669998</td>\n",
       "      <td>131.029999</td>\n",
       "      <td>125.870003</td>\n",
       "      <td>126.040001</td>\n",
       "      <td>125.504539</td>\n",
       "      <td>85438400</td>\n",
       "    </tr>\n",
       "    <tr>\n",
       "      <th>2022-12-29</th>\n",
       "      <td>127.989998</td>\n",
       "      <td>130.479996</td>\n",
       "      <td>127.730003</td>\n",
       "      <td>129.610001</td>\n",
       "      <td>129.059372</td>\n",
       "      <td>75703700</td>\n",
       "    </tr>\n",
       "    <tr>\n",
       "      <th>2022-12-30</th>\n",
       "      <td>128.410004</td>\n",
       "      <td>129.949997</td>\n",
       "      <td>127.430000</td>\n",
       "      <td>129.929993</td>\n",
       "      <td>129.378006</td>\n",
       "      <td>77034200</td>\n",
       "    </tr>\n",
       "  </tbody>\n",
       "</table>\n",
       "</div>"
      ],
      "text/plain": [
       "                  Open        High         Low       Close   Adj Close  \\\n",
       "Date                                                                     \n",
       "2022-12-23  130.919998  132.419998  129.639999  131.860001  131.299820   \n",
       "2022-12-27  131.380005  131.410004  128.720001  130.029999  129.477585   \n",
       "2022-12-28  129.669998  131.029999  125.870003  126.040001  125.504539   \n",
       "2022-12-29  127.989998  130.479996  127.730003  129.610001  129.059372   \n",
       "2022-12-30  128.410004  129.949997  127.430000  129.929993  129.378006   \n",
       "\n",
       "              Volume  \n",
       "Date                  \n",
       "2022-12-23  63814900  \n",
       "2022-12-27  69007800  \n",
       "2022-12-28  85438400  \n",
       "2022-12-29  75703700  \n",
       "2022-12-30  77034200  "
      ]
     },
     "execution_count": 3,
     "metadata": {},
     "output_type": "execute_result"
    }
   ],
   "source": [
    "df.tail()"
   ]
  },
  {
   "cell_type": "code",
   "execution_count": 4,
   "id": "324add8b-744a-4d4b-b2de-82892d341f64",
   "metadata": {},
   "outputs": [
    {
     "data": {
      "text/html": [
       "<div>\n",
       "<style scoped>\n",
       "    .dataframe tbody tr th:only-of-type {\n",
       "        vertical-align: middle;\n",
       "    }\n",
       "\n",
       "    .dataframe tbody tr th {\n",
       "        vertical-align: top;\n",
       "    }\n",
       "\n",
       "    .dataframe thead th {\n",
       "        text-align: right;\n",
       "    }\n",
       "</style>\n",
       "<table border=\"1\" class=\"dataframe\">\n",
       "  <thead>\n",
       "    <tr style=\"text-align: right;\">\n",
       "      <th></th>\n",
       "      <th>Date</th>\n",
       "      <th>Open</th>\n",
       "      <th>High</th>\n",
       "      <th>Low</th>\n",
       "      <th>Close</th>\n",
       "      <th>Adj Close</th>\n",
       "      <th>Volume</th>\n",
       "    </tr>\n",
       "  </thead>\n",
       "  <tbody>\n",
       "    <tr>\n",
       "      <th>0</th>\n",
       "      <td>2013-01-02</td>\n",
       "      <td>19.779285</td>\n",
       "      <td>19.821428</td>\n",
       "      <td>19.343929</td>\n",
       "      <td>19.608213</td>\n",
       "      <td>16.791182</td>\n",
       "      <td>560518000</td>\n",
       "    </tr>\n",
       "    <tr>\n",
       "      <th>1</th>\n",
       "      <td>2013-01-03</td>\n",
       "      <td>19.567142</td>\n",
       "      <td>19.631071</td>\n",
       "      <td>19.321428</td>\n",
       "      <td>19.360714</td>\n",
       "      <td>16.579247</td>\n",
       "      <td>352965200</td>\n",
       "    </tr>\n",
       "    <tr>\n",
       "      <th>2</th>\n",
       "      <td>2013-01-04</td>\n",
       "      <td>19.177500</td>\n",
       "      <td>19.236786</td>\n",
       "      <td>18.779642</td>\n",
       "      <td>18.821428</td>\n",
       "      <td>16.117437</td>\n",
       "      <td>594333600</td>\n",
       "    </tr>\n",
       "    <tr>\n",
       "      <th>3</th>\n",
       "      <td>2013-01-07</td>\n",
       "      <td>18.642857</td>\n",
       "      <td>18.903570</td>\n",
       "      <td>18.400000</td>\n",
       "      <td>18.710714</td>\n",
       "      <td>16.022627</td>\n",
       "      <td>484156400</td>\n",
       "    </tr>\n",
       "    <tr>\n",
       "      <th>4</th>\n",
       "      <td>2013-01-08</td>\n",
       "      <td>18.900356</td>\n",
       "      <td>18.996071</td>\n",
       "      <td>18.616072</td>\n",
       "      <td>18.761070</td>\n",
       "      <td>16.065746</td>\n",
       "      <td>458707200</td>\n",
       "    </tr>\n",
       "  </tbody>\n",
       "</table>\n",
       "</div>"
      ],
      "text/plain": [
       "        Date       Open       High        Low      Close  Adj Close     Volume\n",
       "0 2013-01-02  19.779285  19.821428  19.343929  19.608213  16.791182  560518000\n",
       "1 2013-01-03  19.567142  19.631071  19.321428  19.360714  16.579247  352965200\n",
       "2 2013-01-04  19.177500  19.236786  18.779642  18.821428  16.117437  594333600\n",
       "3 2013-01-07  18.642857  18.903570  18.400000  18.710714  16.022627  484156400\n",
       "4 2013-01-08  18.900356  18.996071  18.616072  18.761070  16.065746  458707200"
      ]
     },
     "execution_count": 4,
     "metadata": {},
     "output_type": "execute_result"
    }
   ],
   "source": [
    "df = df.reset_index()\n",
    "df.head()"
   ]
  },
  {
   "cell_type": "code",
   "execution_count": 5,
   "id": "c7303fb5-9d25-49ff-825b-d1c032a193a1",
   "metadata": {},
   "outputs": [
    {
     "data": {
      "text/html": [
       "<div>\n",
       "<style scoped>\n",
       "    .dataframe tbody tr th:only-of-type {\n",
       "        vertical-align: middle;\n",
       "    }\n",
       "\n",
       "    .dataframe tbody tr th {\n",
       "        vertical-align: top;\n",
       "    }\n",
       "\n",
       "    .dataframe thead th {\n",
       "        text-align: right;\n",
       "    }\n",
       "</style>\n",
       "<table border=\"1\" class=\"dataframe\">\n",
       "  <thead>\n",
       "    <tr style=\"text-align: right;\">\n",
       "      <th></th>\n",
       "      <th>Date</th>\n",
       "      <th>Open</th>\n",
       "      <th>High</th>\n",
       "      <th>Low</th>\n",
       "      <th>Close</th>\n",
       "      <th>Volume</th>\n",
       "    </tr>\n",
       "  </thead>\n",
       "  <tbody>\n",
       "    <tr>\n",
       "      <th>0</th>\n",
       "      <td>2013-01-02</td>\n",
       "      <td>19.779285</td>\n",
       "      <td>19.821428</td>\n",
       "      <td>19.343929</td>\n",
       "      <td>19.608213</td>\n",
       "      <td>560518000</td>\n",
       "    </tr>\n",
       "    <tr>\n",
       "      <th>1</th>\n",
       "      <td>2013-01-03</td>\n",
       "      <td>19.567142</td>\n",
       "      <td>19.631071</td>\n",
       "      <td>19.321428</td>\n",
       "      <td>19.360714</td>\n",
       "      <td>352965200</td>\n",
       "    </tr>\n",
       "    <tr>\n",
       "      <th>2</th>\n",
       "      <td>2013-01-04</td>\n",
       "      <td>19.177500</td>\n",
       "      <td>19.236786</td>\n",
       "      <td>18.779642</td>\n",
       "      <td>18.821428</td>\n",
       "      <td>594333600</td>\n",
       "    </tr>\n",
       "    <tr>\n",
       "      <th>3</th>\n",
       "      <td>2013-01-07</td>\n",
       "      <td>18.642857</td>\n",
       "      <td>18.903570</td>\n",
       "      <td>18.400000</td>\n",
       "      <td>18.710714</td>\n",
       "      <td>484156400</td>\n",
       "    </tr>\n",
       "    <tr>\n",
       "      <th>4</th>\n",
       "      <td>2013-01-08</td>\n",
       "      <td>18.900356</td>\n",
       "      <td>18.996071</td>\n",
       "      <td>18.616072</td>\n",
       "      <td>18.761070</td>\n",
       "      <td>458707200</td>\n",
       "    </tr>\n",
       "  </tbody>\n",
       "</table>\n",
       "</div>"
      ],
      "text/plain": [
       "        Date       Open       High        Low      Close     Volume\n",
       "0 2013-01-02  19.779285  19.821428  19.343929  19.608213  560518000\n",
       "1 2013-01-03  19.567142  19.631071  19.321428  19.360714  352965200\n",
       "2 2013-01-04  19.177500  19.236786  18.779642  18.821428  594333600\n",
       "3 2013-01-07  18.642857  18.903570  18.400000  18.710714  484156400\n",
       "4 2013-01-08  18.900356  18.996071  18.616072  18.761070  458707200"
      ]
     },
     "execution_count": 5,
     "metadata": {},
     "output_type": "execute_result"
    }
   ],
   "source": [
    "df = df.drop(['Adj Close'], axis = 1)\n",
    "df.head()"
   ]
  },
  {
   "cell_type": "code",
   "execution_count": 6,
   "id": "2982b00a-dd9f-4f12-9659-5432025f3adb",
   "metadata": {},
   "outputs": [
    {
     "data": {
      "text/html": [
       "<div>\n",
       "<style scoped>\n",
       "    .dataframe tbody tr th:only-of-type {\n",
       "        vertical-align: middle;\n",
       "    }\n",
       "\n",
       "    .dataframe tbody tr th {\n",
       "        vertical-align: top;\n",
       "    }\n",
       "\n",
       "    .dataframe thead th {\n",
       "        text-align: right;\n",
       "    }\n",
       "</style>\n",
       "<table border=\"1\" class=\"dataframe\">\n",
       "  <thead>\n",
       "    <tr style=\"text-align: right;\">\n",
       "      <th></th>\n",
       "      <th>index</th>\n",
       "      <th>Date</th>\n",
       "      <th>Open</th>\n",
       "      <th>High</th>\n",
       "      <th>Low</th>\n",
       "      <th>Close</th>\n",
       "      <th>Volume</th>\n",
       "    </tr>\n",
       "  </thead>\n",
       "  <tbody>\n",
       "    <tr>\n",
       "      <th>0</th>\n",
       "      <td>0</td>\n",
       "      <td>2013-01-02</td>\n",
       "      <td>19.779285</td>\n",
       "      <td>19.821428</td>\n",
       "      <td>19.343929</td>\n",
       "      <td>19.608213</td>\n",
       "      <td>560518000</td>\n",
       "    </tr>\n",
       "    <tr>\n",
       "      <th>1</th>\n",
       "      <td>1</td>\n",
       "      <td>2013-01-03</td>\n",
       "      <td>19.567142</td>\n",
       "      <td>19.631071</td>\n",
       "      <td>19.321428</td>\n",
       "      <td>19.360714</td>\n",
       "      <td>352965200</td>\n",
       "    </tr>\n",
       "    <tr>\n",
       "      <th>2</th>\n",
       "      <td>2</td>\n",
       "      <td>2013-01-04</td>\n",
       "      <td>19.177500</td>\n",
       "      <td>19.236786</td>\n",
       "      <td>18.779642</td>\n",
       "      <td>18.821428</td>\n",
       "      <td>594333600</td>\n",
       "    </tr>\n",
       "    <tr>\n",
       "      <th>3</th>\n",
       "      <td>3</td>\n",
       "      <td>2013-01-07</td>\n",
       "      <td>18.642857</td>\n",
       "      <td>18.903570</td>\n",
       "      <td>18.400000</td>\n",
       "      <td>18.710714</td>\n",
       "      <td>484156400</td>\n",
       "    </tr>\n",
       "    <tr>\n",
       "      <th>4</th>\n",
       "      <td>4</td>\n",
       "      <td>2013-01-08</td>\n",
       "      <td>18.900356</td>\n",
       "      <td>18.996071</td>\n",
       "      <td>18.616072</td>\n",
       "      <td>18.761070</td>\n",
       "      <td>458707200</td>\n",
       "    </tr>\n",
       "  </tbody>\n",
       "</table>\n",
       "</div>"
      ],
      "text/plain": [
       "   index       Date       Open       High        Low      Close     Volume\n",
       "0      0 2013-01-02  19.779285  19.821428  19.343929  19.608213  560518000\n",
       "1      1 2013-01-03  19.567142  19.631071  19.321428  19.360714  352965200\n",
       "2      2 2013-01-04  19.177500  19.236786  18.779642  18.821428  594333600\n",
       "3      3 2013-01-07  18.642857  18.903570  18.400000  18.710714  484156400\n",
       "4      4 2013-01-08  18.900356  18.996071  18.616072  18.761070  458707200"
      ]
     },
     "execution_count": 6,
     "metadata": {},
     "output_type": "execute_result"
    }
   ],
   "source": [
    "df = df.reset_index()\n",
    "df.head()"
   ]
  },
  {
   "cell_type": "code",
   "execution_count": 7,
   "id": "7e86911b-4bf8-493a-96f6-2beed168740f",
   "metadata": {},
   "outputs": [
    {
     "data": {
      "text/html": [
       "<div>\n",
       "<style scoped>\n",
       "    .dataframe tbody tr th:only-of-type {\n",
       "        vertical-align: middle;\n",
       "    }\n",
       "\n",
       "    .dataframe tbody tr th {\n",
       "        vertical-align: top;\n",
       "    }\n",
       "\n",
       "    .dataframe thead th {\n",
       "        text-align: right;\n",
       "    }\n",
       "</style>\n",
       "<table border=\"1\" class=\"dataframe\">\n",
       "  <thead>\n",
       "    <tr style=\"text-align: right;\">\n",
       "      <th></th>\n",
       "      <th>index</th>\n",
       "      <th>Open</th>\n",
       "      <th>High</th>\n",
       "      <th>Low</th>\n",
       "      <th>Close</th>\n",
       "      <th>Volume</th>\n",
       "    </tr>\n",
       "  </thead>\n",
       "  <tbody>\n",
       "    <tr>\n",
       "      <th>0</th>\n",
       "      <td>0</td>\n",
       "      <td>19.779285</td>\n",
       "      <td>19.821428</td>\n",
       "      <td>19.343929</td>\n",
       "      <td>19.608213</td>\n",
       "      <td>560518000</td>\n",
       "    </tr>\n",
       "    <tr>\n",
       "      <th>1</th>\n",
       "      <td>1</td>\n",
       "      <td>19.567142</td>\n",
       "      <td>19.631071</td>\n",
       "      <td>19.321428</td>\n",
       "      <td>19.360714</td>\n",
       "      <td>352965200</td>\n",
       "    </tr>\n",
       "    <tr>\n",
       "      <th>2</th>\n",
       "      <td>2</td>\n",
       "      <td>19.177500</td>\n",
       "      <td>19.236786</td>\n",
       "      <td>18.779642</td>\n",
       "      <td>18.821428</td>\n",
       "      <td>594333600</td>\n",
       "    </tr>\n",
       "    <tr>\n",
       "      <th>3</th>\n",
       "      <td>3</td>\n",
       "      <td>18.642857</td>\n",
       "      <td>18.903570</td>\n",
       "      <td>18.400000</td>\n",
       "      <td>18.710714</td>\n",
       "      <td>484156400</td>\n",
       "    </tr>\n",
       "    <tr>\n",
       "      <th>4</th>\n",
       "      <td>4</td>\n",
       "      <td>18.900356</td>\n",
       "      <td>18.996071</td>\n",
       "      <td>18.616072</td>\n",
       "      <td>18.761070</td>\n",
       "      <td>458707200</td>\n",
       "    </tr>\n",
       "  </tbody>\n",
       "</table>\n",
       "</div>"
      ],
      "text/plain": [
       "   index       Open       High        Low      Close     Volume\n",
       "0      0  19.779285  19.821428  19.343929  19.608213  560518000\n",
       "1      1  19.567142  19.631071  19.321428  19.360714  352965200\n",
       "2      2  19.177500  19.236786  18.779642  18.821428  594333600\n",
       "3      3  18.642857  18.903570  18.400000  18.710714  484156400\n",
       "4      4  18.900356  18.996071  18.616072  18.761070  458707200"
      ]
     },
     "execution_count": 7,
     "metadata": {},
     "output_type": "execute_result"
    }
   ],
   "source": [
    "df = df.drop(['Date'], axis = 1)\n",
    "df.head()"
   ]
  },
  {
   "cell_type": "code",
   "execution_count": 8,
   "id": "5878f153-5fe6-4272-a9c2-5e371ab247bb",
   "metadata": {},
   "outputs": [
    {
     "data": {
      "text/plain": [
       "[<matplotlib.lines.Line2D at 0x1bc4c2d0190>]"
      ]
     },
     "execution_count": 8,
     "metadata": {},
     "output_type": "execute_result"
    },
    {
     "data": {
      "image/png": "[encoded data removed]",
      "text/plain": [
       "<Figure size 640x480 with 1 Axes>"
      ]
     },
     "metadata": {},
     "output_type": "display_data"
    }
   ],
   "source": [
    "plt.plot(df.Close)"
   ]
  },
  {
   "cell_type": "code",
   "execution_count": 9,
   "id": "f39399f7-c43e-4048-a5f9-6d0642faae40",
   "metadata": {},
   "outputs": [
    {
     "data": {
      "text/html": [
       "<div>\n",
       "<style scoped>\n",
       "    .dataframe tbody tr th:only-of-type {\n",
       "        vertical-align: middle;\n",
       "    }\n",
       "\n",
       "    .dataframe tbody tr th {\n",
       "        vertical-align: top;\n",
       "    }\n",
       "\n",
       "    .dataframe thead th {\n",
       "        text-align: right;\n",
       "    }\n",
       "</style>\n",
       "<table border=\"1\" class=\"dataframe\">\n",
       "  <thead>\n",
       "    <tr style=\"text-align: right;\">\n",
       "      <th></th>\n",
       "      <th>index</th>\n",
       "      <th>Open</th>\n",
       "      <th>High</th>\n",
       "      <th>Low</th>\n",
       "      <th>Close</th>\n",
       "      <th>Volume</th>\n",
       "    </tr>\n",
       "  </thead>\n",
       "  <tbody>\n",
       "    <tr>\n",
       "      <th>0</th>\n",
       "      <td>0</td>\n",
       "      <td>19.779285</td>\n",
       "      <td>19.821428</td>\n",
       "      <td>19.343929</td>\n",
       "      <td>19.608213</td>\n",
       "      <td>560518000</td>\n",
       "    </tr>\n",
       "    <tr>\n",
       "      <th>1</th>\n",
       "      <td>1</td>\n",
       "      <td>19.567142</td>\n",
       "      <td>19.631071</td>\n",
       "      <td>19.321428</td>\n",
       "      <td>19.360714</td>\n",
       "      <td>352965200</td>\n",
       "    </tr>\n",
       "    <tr>\n",
       "      <th>2</th>\n",
       "      <td>2</td>\n",
       "      <td>19.177500</td>\n",
       "      <td>19.236786</td>\n",
       "      <td>18.779642</td>\n",
       "      <td>18.821428</td>\n",
       "      <td>594333600</td>\n",
       "    </tr>\n",
       "    <tr>\n",
       "      <th>3</th>\n",
       "      <td>3</td>\n",
       "      <td>18.642857</td>\n",
       "      <td>18.903570</td>\n",
       "      <td>18.400000</td>\n",
       "      <td>18.710714</td>\n",
       "      <td>484156400</td>\n",
       "    </tr>\n",
       "    <tr>\n",
       "      <th>4</th>\n",
       "      <td>4</td>\n",
       "      <td>18.900356</td>\n",
       "      <td>18.996071</td>\n",
       "      <td>18.616072</td>\n",
       "      <td>18.761070</td>\n",
       "      <td>458707200</td>\n",
       "    </tr>\n",
       "    <tr>\n",
       "      <th>...</th>\n",
       "      <td>...</td>\n",
       "      <td>...</td>\n",
       "      <td>...</td>\n",
       "      <td>...</td>\n",
       "      <td>...</td>\n",
       "      <td>...</td>\n",
       "    </tr>\n",
       "    <tr>\n",
       "      <th>2513</th>\n",
       "      <td>2513</td>\n",
       "      <td>130.919998</td>\n",
       "      <td>132.419998</td>\n",
       "      <td>129.639999</td>\n",
       "      <td>131.860001</td>\n",
       "      <td>63814900</td>\n",
       "    </tr>\n",
       "    <tr>\n",
       "      <th>2514</th>\n",
       "      <td>2514</td>\n",
       "      <td>131.380005</td>\n",
       "      <td>131.410004</td>\n",
       "      <td>128.720001</td>\n",
       "      <td>130.029999</td>\n",
       "      <td>69007800</td>\n",
       "    </tr>\n",
       "    <tr>\n",
       "      <th>2515</th>\n",
       "      <td>2515</td>\n",
       "      <td>129.669998</td>\n",
       "      <td>131.029999</td>\n",
       "      <td>125.870003</td>\n",
       "      <td>126.040001</td>\n",
       "      <td>85438400</td>\n",
       "    </tr>\n",
       "    <tr>\n",
       "      <th>2516</th>\n",
       "      <td>2516</td>\n",
       "      <td>127.989998</td>\n",
       "      <td>130.479996</td>\n",
       "      <td>127.730003</td>\n",
       "      <td>129.610001</td>\n",
       "      <td>75703700</td>\n",
       "    </tr>\n",
       "    <tr>\n",
       "      <th>2517</th>\n",
       "      <td>2517</td>\n",
       "      <td>128.410004</td>\n",
       "      <td>129.949997</td>\n",
       "      <td>127.430000</td>\n",
       "      <td>129.929993</td>\n",
       "      <td>77034200</td>\n",
       "    </tr>\n",
       "  </tbody>\n",
       "</table>\n",
       "<p>2518 rows × 6 columns</p>\n",
       "</div>"
      ],
      "text/plain": [
       "      index        Open        High         Low       Close     Volume\n",
       "0         0   19.779285   19.821428   19.343929   19.608213  560518000\n",
       "1         1   19.567142   19.631071   19.321428   19.360714  352965200\n",
       "2         2   19.177500   19.236786   18.779642   18.821428  594333600\n",
       "3         3   18.642857   18.903570   18.400000   18.710714  484156400\n",
       "4         4   18.900356   18.996071   18.616072   18.761070  458707200\n",
       "...     ...         ...         ...         ...         ...        ...\n",
       "2513   2513  130.919998  132.419998  129.639999  131.860001   63814900\n",
       "2514   2514  131.380005  131.410004  128.720001  130.029999   69007800\n",
       "2515   2515  129.669998  131.029999  125.870003  126.040001   85438400\n",
       "2516   2516  127.989998  130.479996  127.730003  129.610001   75703700\n",
       "2517   2517  128.410004  129.949997  127.430000  129.929993   77034200\n",
       "\n",
       "[2518 rows x 6 columns]"
      ]
     },
     "execution_count": 9,
     "metadata": {},
     "output_type": "execute_result"
    }
   ],
   "source": [
    "df"
   ]
  },
  {
   "cell_type": "code",
   "execution_count": 10,
   "id": "ece03b4c-ae1c-4bc4-9fc1-60e4f025f3de",
   "metadata": {},
   "outputs": [
    {
     "data": {
      "text/plain": [
       "0              NaN\n",
       "1              NaN\n",
       "2              NaN\n",
       "3              NaN\n",
       "4              NaN\n",
       "           ...    \n",
       "2513    150.515600\n",
       "2514    150.157800\n",
       "2515    149.764699\n",
       "2516    149.412100\n",
       "2517    149.062199\n",
       "Name: Close, Length: 2518, dtype: float64"
      ]
     },
     "execution_count": 10,
     "metadata": {},
     "output_type": "execute_result"
    }
   ],
   "source": [
    "ma100 = df.Close.rolling(100).mean()\n",
    "ma100"
   ]
  },
  {
   "cell_type": "code",
   "execution_count": 11,
   "id": "48c55542-d9c1-4835-af32-32c2873a5abf",
   "metadata": {},
   "outputs": [
    {
     "data": {
      "text/plain": [
       "[<matplotlib.lines.Line2D at 0x1bc4ca903d0>]"
      ]
     },
     "execution_count": 11,
     "metadata": {},
     "output_type": "execute_result"
    },
    {
     "data": {
      "image/png": "[encoded data removed]",
      "text/plain": [
       "<Figure size 1200x600 with 1 Axes>"
      ]
     },
     "metadata": {},
     "output_type": "display_data"
    }
   ],
   "source": [
    "plt.figure(figsize = (12, 6))\n",
    "plt.plot(df.Close)\n",
    "plt.plot(ma100, 'r')"
   ]
  },
  {
   "cell_type": "code",
   "execution_count": 12,
   "id": "f695e932-2e17-4b8f-9a5e-73b3878379e3",
   "metadata": {},
   "outputs": [
    {
     "data": {
      "text/plain": [
       "0            NaN\n",
       "1            NaN\n",
       "2            NaN\n",
       "3            NaN\n",
       "4            NaN\n",
       "          ...   \n",
       "2513    152.1331\n",
       "2514    152.0096\n",
       "2515    151.8867\n",
       "2516    151.7593\n",
       "2517    151.6110\n",
       "Name: Close, Length: 2518, dtype: float64"
      ]
     },
     "execution_count": 12,
     "metadata": {},
     "output_type": "execute_result"
    }
   ],
   "source": [
    "ma200 = df.Close.rolling(200).mean()\n",
    "ma200"
   ]
  },
  {
   "cell_type": "code",
   "execution_count": 13,
   "id": "7e1e4e78-8c83-42f7-b111-7513527e5391",
   "metadata": {},
   "outputs": [
    {
     "data": {
      "text/plain": [
       "[<matplotlib.lines.Line2D at 0x1bc4cbc7590>]"
      ]
     },
     "execution_count": 13,
     "metadata": {},
     "output_type": "execute_result"
    },
    {
     "data": {
      "image/png": "[encoded data removed]",
      "text/plain": [
       "<Figure size 1200x600 with 1 Axes>"
      ]
     },
     "metadata": {},
     "output_type": "display_data"
    }
   ],
   "source": [
    "plt.figure(figsize = (12, 6))\n",
    "plt.plot(df.Close)\n",
    "plt.plot(ma100, 'r')\n",
    "plt.plot(ma200, 'g')"
   ]
  },
  {
   "cell_type": "code",
   "execution_count": 14,
   "id": "aa76026c-c467-452b-bcaf-ec4e5d9d68bf",
   "metadata": {},
   "outputs": [
    {
     "data": {
      "text/plain": [
       "(2518, 6)"
      ]
     },
     "execution_count": 14,
     "metadata": {},
     "output_type": "execute_result"
    }
   ],
   "source": [
    "df.shape"
   ]
  },
  {
   "cell_type": "markdown",
   "id": "021df786-d9e6-4b84-b850-c0f40d20a4b0",
   "metadata": {},
   "source": [
    "Splitting Data into Training and Testing DataSets"
   ]
  },
  {
   "cell_type": "code",
   "execution_count": 15,
   "id": "2c22d247-0cdd-4929-bc36-d7388062cfc6",
   "metadata": {},
   "outputs": [
    {
     "name": "stdout",
     "output_type": "stream",
     "text": [
      "(1762, 1)\n",
      "(756, 1)\n"
     ]
    }
   ],
   "source": [
    "data_training = pd.DataFrame(df['Close'][0:int(len(df)*0.70)])\n",
    "data_testing = pd.DataFrame(df['Close'][int(len(df)*0.70):int(len(df))])\n",
    "\n",
    "print(data_training.shape)\n",
    "print(data_testing.shape)"
   ]
  },
  {
   "cell_type": "code",
   "execution_count": 16,
   "id": "e3dfa846-6213-4219-a46e-1f9ab393ad92",
   "metadata": {},
   "outputs": [
    {
     "data": {
      "text/html": [
       "<div>\n",
       "<style scoped>\n",
       "    .dataframe tbody tr th:only-of-type {\n",
       "        vertical-align: middle;\n",
       "    }\n",
       "\n",
       "    .dataframe tbody tr th {\n",
       "        vertical-align: top;\n",
       "    }\n",
       "\n",
       "    .dataframe thead th {\n",
       "        text-align: right;\n",
       "    }\n",
       "</style>\n",
       "<table border=\"1\" class=\"dataframe\">\n",
       "  <thead>\n",
       "    <tr style=\"text-align: right;\">\n",
       "      <th></th>\n",
       "      <th>Close</th>\n",
       "    </tr>\n",
       "  </thead>\n",
       "  <tbody>\n",
       "    <tr>\n",
       "      <th>0</th>\n",
       "      <td>19.608213</td>\n",
       "    </tr>\n",
       "    <tr>\n",
       "      <th>1</th>\n",
       "      <td>19.360714</td>\n",
       "    </tr>\n",
       "    <tr>\n",
       "      <th>2</th>\n",
       "      <td>18.821428</td>\n",
       "    </tr>\n",
       "    <tr>\n",
       "      <th>3</th>\n",
       "      <td>18.710714</td>\n",
       "    </tr>\n",
       "    <tr>\n",
       "      <th>4</th>\n",
       "      <td>18.761070</td>\n",
       "    </tr>\n",
       "  </tbody>\n",
       "</table>\n",
       "</div>"
      ],
      "text/plain": [
       "       Close\n",
       "0  19.608213\n",
       "1  19.360714\n",
       "2  18.821428\n",
       "3  18.710714\n",
       "4  18.761070"
      ]
     },
     "execution_count": 16,
     "metadata": {},
     "output_type": "execute_result"
    }
   ],
   "source": [
    "data_training.head()"
   ]
  },
  {
   "cell_type": "code",
   "execution_count": 17,
   "id": "5f9a1b36-4c8f-4bec-b968-9611b4acd46b",
   "metadata": {},
   "outputs": [
    {
     "data": {
      "text/html": [
       "<div>\n",
       "<style scoped>\n",
       "    .dataframe tbody tr th:only-of-type {\n",
       "        vertical-align: middle;\n",
       "    }\n",
       "\n",
       "    .dataframe tbody tr th {\n",
       "        vertical-align: top;\n",
       "    }\n",
       "\n",
       "    .dataframe thead th {\n",
       "        text-align: right;\n",
       "    }\n",
       "</style>\n",
       "<table border=\"1\" class=\"dataframe\">\n",
       "  <thead>\n",
       "    <tr style=\"text-align: right;\">\n",
       "      <th></th>\n",
       "      <th>Close</th>\n",
       "    </tr>\n",
       "  </thead>\n",
       "  <tbody>\n",
       "    <tr>\n",
       "      <th>1757</th>\n",
       "      <td>71.067497</td>\n",
       "    </tr>\n",
       "    <tr>\n",
       "      <th>1758</th>\n",
       "      <td>72.477501</td>\n",
       "    </tr>\n",
       "    <tr>\n",
       "      <th>1759</th>\n",
       "      <td>72.449997</td>\n",
       "    </tr>\n",
       "    <tr>\n",
       "      <th>1760</th>\n",
       "      <td>72.879997</td>\n",
       "    </tr>\n",
       "    <tr>\n",
       "      <th>1761</th>\n",
       "      <td>73.412498</td>\n",
       "    </tr>\n",
       "  </tbody>\n",
       "</table>\n",
       "</div>"
      ],
      "text/plain": [
       "          Close\n",
       "1757  71.067497\n",
       "1758  72.477501\n",
       "1759  72.449997\n",
       "1760  72.879997\n",
       "1761  73.412498"
      ]
     },
     "execution_count": 17,
     "metadata": {},
     "output_type": "execute_result"
    }
   ],
   "source": [
    "data_training.tail()"
   ]
  },
  {
   "cell_type": "code",
   "execution_count": 18,
   "id": "04afe334-b885-48c3-903d-e894255990b4",
   "metadata": {},
   "outputs": [
    {
     "data": {
      "text/html": [
       "<div>\n",
       "<style scoped>\n",
       "    .dataframe tbody tr th:only-of-type {\n",
       "        vertical-align: middle;\n",
       "    }\n",
       "\n",
       "    .dataframe tbody tr th {\n",
       "        vertical-align: top;\n",
       "    }\n",
       "\n",
       "    .dataframe thead th {\n",
       "        text-align: right;\n",
       "    }\n",
       "</style>\n",
       "<table border=\"1\" class=\"dataframe\">\n",
       "  <thead>\n",
       "    <tr style=\"text-align: right;\">\n",
       "      <th></th>\n",
       "      <th>Close</th>\n",
       "    </tr>\n",
       "  </thead>\n",
       "  <tbody>\n",
       "    <tr>\n",
       "      <th>1762</th>\n",
       "      <td>75.087502</td>\n",
       "    </tr>\n",
       "    <tr>\n",
       "      <th>1763</th>\n",
       "      <td>74.357498</td>\n",
       "    </tr>\n",
       "    <tr>\n",
       "      <th>1764</th>\n",
       "      <td>74.949997</td>\n",
       "    </tr>\n",
       "    <tr>\n",
       "      <th>1765</th>\n",
       "      <td>74.597504</td>\n",
       "    </tr>\n",
       "    <tr>\n",
       "      <th>1766</th>\n",
       "      <td>75.797501</td>\n",
       "    </tr>\n",
       "  </tbody>\n",
       "</table>\n",
       "</div>"
      ],
      "text/plain": [
       "          Close\n",
       "1762  75.087502\n",
       "1763  74.357498\n",
       "1764  74.949997\n",
       "1765  74.597504\n",
       "1766  75.797501"
      ]
     },
     "execution_count": 18,
     "metadata": {},
     "output_type": "execute_result"
    }
   ],
   "source": [
    "data_testing.head()"
   ]
  },
  {
   "cell_type": "code",
   "execution_count": 19,
   "id": "16e6c5d2-8058-49ef-a3d0-7856f10ba6ad",
   "metadata": {},
   "outputs": [
    {
     "data": {
      "text/html": [
       "<div>\n",
       "<style scoped>\n",
       "    .dataframe tbody tr th:only-of-type {\n",
       "        vertical-align: middle;\n",
       "    }\n",
       "\n",
       "    .dataframe tbody tr th {\n",
       "        vertical-align: top;\n",
       "    }\n",
       "\n",
       "    .dataframe thead th {\n",
       "        text-align: right;\n",
       "    }\n",
       "</style>\n",
       "<table border=\"1\" class=\"dataframe\">\n",
       "  <thead>\n",
       "    <tr style=\"text-align: right;\">\n",
       "      <th></th>\n",
       "      <th>Close</th>\n",
       "    </tr>\n",
       "  </thead>\n",
       "  <tbody>\n",
       "    <tr>\n",
       "      <th>2513</th>\n",
       "      <td>131.860001</td>\n",
       "    </tr>\n",
       "    <tr>\n",
       "      <th>2514</th>\n",
       "      <td>130.029999</td>\n",
       "    </tr>\n",
       "    <tr>\n",
       "      <th>2515</th>\n",
       "      <td>126.040001</td>\n",
       "    </tr>\n",
       "    <tr>\n",
       "      <th>2516</th>\n",
       "      <td>129.610001</td>\n",
       "    </tr>\n",
       "    <tr>\n",
       "      <th>2517</th>\n",
       "      <td>129.929993</td>\n",
       "    </tr>\n",
       "  </tbody>\n",
       "</table>\n",
       "</div>"
      ],
      "text/plain": [
       "           Close\n",
       "2513  131.860001\n",
       "2514  130.029999\n",
       "2515  126.040001\n",
       "2516  129.610001\n",
       "2517  129.929993"
      ]
     },
     "execution_count": 19,
     "metadata": {},
     "output_type": "execute_result"
    }
   ],
   "source": [
    "data_testing.tail()"
   ]
  },
  {
   "cell_type": "code",
   "execution_count": 20,
   "id": "69a39272-1aab-4682-bb6d-2cb16768a50e",
   "metadata": {},
   "outputs": [
    {
     "data": {
      "text/plain": [
       "array([[0.09519404],\n",
       "       [0.09103193],\n",
       "       [0.08196297],\n",
       "       ...,\n",
       "       [0.98381398],\n",
       "       [0.99104513],\n",
       "       [1.        ]])"
      ]
     },
     "execution_count": 20,
     "metadata": {},
     "output_type": "execute_result"
    }
   ],
   "source": [
    "from sklearn.preprocessing import MinMaxScaler\n",
    "scaler = MinMaxScaler(feature_range = (0, 1))\n",
    "\n",
    "data_training_array = scaler.fit_transform(data_training)\n",
    "data_training_array"
   ]
  },
  {
   "cell_type": "code",
   "execution_count": 21,
   "id": "29aec3fa-d305-40f1-8e55-b954398e5cfb",
   "metadata": {},
   "outputs": [
    {
     "data": {
      "text/plain": [
       "(1762, 1)"
      ]
     },
     "execution_count": 21,
     "metadata": {},
     "output_type": "execute_result"
    }
   ],
   "source": [
    "data_training_array.shape"
   ]
  },
  {
   "cell_type": "code",
   "execution_count": 30,
   "id": "d6978140-a343-4bcc-924f-8edfb757ade0",
   "metadata": {},
   "outputs": [],
   "source": [
    "x_train = []\n",
    "y_train = []\n",
    "\n",
    "for i in range (100, data_training_array.shape[0]):\n",
    "    x_train.append(data_training_array[i - 100: i])\n",
    "    y_train.append(data_training_array[i, 0])\n",
    "\n",
    "x_train, y_train = np.array(x_train), np.array(y_train)"
   ]
  },
  {
   "cell_type": "code",
   "execution_count": 31,
   "id": "00b7b769-a17e-451a-a20b-ce3939505e9d",
   "metadata": {},
   "outputs": [
    {
     "data": {
      "text/plain": [
       "(1662, 100, 1)"
      ]
     },
     "execution_count": 31,
     "metadata": {},
     "output_type": "execute_result"
    }
   ],
   "source": [
    "x_train.shape"
   ]
  },
  {
   "cell_type": "code",
   "execution_count": 32,
   "id": "0c6941cd-e9de-4bdf-b39b-948c9408b491",
   "metadata": {},
   "outputs": [
    {
     "data": {
      "text/plain": [
       "100"
      ]
     },
     "execution_count": 32,
     "metadata": {},
     "output_type": "execute_result"
    }
   ],
   "source": [
    "x_train.shape[1]"
   ]
  },
  {
   "cell_type": "markdown",
   "id": "fc1ff4f3-f397-48cc-a85f-f07cc8f8e55d",
   "metadata": {},
   "source": [
    "ML Model"
   ]
  },
  {
   "cell_type": "code",
   "execution_count": 33,
   "id": "2c49e2d8-42c9-4fd5-9791-49941daea192",
   "metadata": {},
   "outputs": [],
   "source": [
    "from tensorflow import keras\n",
    "from keras.layers import Dense, Dropout, LSTM\n",
    "from keras.models import Sequential"
   ]
  },
  {
   "cell_type": "code",
   "execution_count": 34,
   "id": "01c79368-1ec6-49cd-8940-8beb53ea6277",
   "metadata": {},
   "outputs": [],
   "source": [
    "model = Sequential()\n",
    "\n",
    "model.add(LSTM(units = 50, activation = 'relu', return_sequences = True, input_shape = (x_train.shape[1], 1)))\n",
    "model.add(Dropout(0.2))\n",
    "\n",
    "model.add(LSTM(units = 60, activation = 'relu', return_sequences = True))\n",
    "model.add(Dropout(0.3))\n",
    "\n",
    "model.add(LSTM(units = 80, activation = 'relu', return_sequences = True))\n",
    "model.add(Dropout(0.4))\n",
    "\n",
    "model.add(LSTM(units = 120, activation = 'relu'))\n",
    "model.add(Dropout(0.5))\n",
    "\n",
    "model.add(Dense(units = 1))"
   ]
  },
  {
   "cell_type": "code",
   "execution_count": 35,
   "id": "79a38c7a-a65d-4f13-a0ba-cbb2e4fae8e0",
   "metadata": {},
   "outputs": [
    {
     "name": "stdout",
     "output_type": "stream",
     "text": [
      "Model: \"sequential\"\n",
      "_________________________________________________________________\n",
      " Layer (type)                Output Shape              Param #   \n",
      "=================================================================\n",
      " lstm (LSTM)                 (None, 100, 50)           10400     \n",
      "                                                                 \n",
      " dropout (Dropout)           (None, 100, 50)           0         \n",
      "                                                                 \n",
      " lstm_1 (LSTM)               (None, 100, 60)           26640     \n",
      "                                                                 \n",
      " dropout_1 (Dropout)         (None, 100, 60)           0         \n",
      "                                                                 \n",
      " lstm_2 (LSTM)               (None, 100, 80)           45120     \n",
      "                                                                 \n",
      " dropout_2 (Dropout)         (None, 100, 80)           0         \n",
      "                                                                 \n",
      " lstm_3 (LSTM)               (None, 120)               96480     \n",
      "                                                                 \n",
      " dropout_3 (Dropout)         (None, 120)               0         \n",
      "                                                                 \n",
      " dense (Dense)               (None, 1)                 121       \n",
      "                                                                 \n",
      "=================================================================\n",
      "Total params: 178,761\n",
      "Trainable params: 178,761\n",
      "Non-trainable params: 0\n",
      "_________________________________________________________________\n"
     ]
    }
   ],
   "source": [
    "model.summary()"
   ]
  },
  {
   "cell_type": "code",
   "execution_count": 36,
   "id": "d8d32c2f-cea3-4aae-8b40-e4c0c5e443d5",
   "metadata": {},
   "outputs": [
    {
     "name": "stdout",
     "output_type": "stream",
     "text": [
      "Epoch 1/100\n",
      "52/52 [==============================] - 15s 205ms/step - loss: 0.0301\n",
      "Epoch 2/100\n",
      "52/52 [==============================] - 10s 194ms/step - loss: 0.0057\n",
      "Epoch 3/100\n",
      "52/52 [==============================] - 10s 196ms/step - loss: 0.0054\n",
      "Epoch 4/100\n",
      "52/52 [==============================] - 10s 197ms/step - loss: 0.0046\n",
      "Epoch 5/100\n",
      "52/52 [==============================] - 12s 237ms/step - loss: 0.0043\n",
      "Epoch 6/100\n",
      "52/52 [==============================] - 11s 219ms/step - loss: 0.0047\n",
      "Epoch 7/100\n",
      "52/52 [==============================] - 11s 202ms/step - loss: 0.0041\n",
      "Epoch 8/100\n",
      "52/52 [==============================] - 10s 201ms/step - loss: 0.0047\n",
      "Epoch 9/100\n",
      "52/52 [==============================] - 10s 196ms/step - loss: 0.0043\n",
      "Epoch 10/100\n",
      "52/52 [==============================] - 10s 197ms/step - loss: 0.0041\n",
      "Epoch 11/100\n",
      "52/52 [==============================] - 10s 198ms/step - loss: 0.0037\n",
      "Epoch 12/100\n",
      "52/52 [==============================] - 10s 197ms/step - loss: 0.0037\n",
      "Epoch 13/100\n",
      "52/52 [==============================] - 10s 195ms/step - loss: 0.0039\n",
      "Epoch 14/100\n",
      "52/52 [==============================] - 11s 210ms/step - loss: 0.0033\n",
      "Epoch 15/100\n",
      "52/52 [==============================] - 11s 207ms/step - loss: 0.0030\n",
      "Epoch 16/100\n",
      "52/52 [==============================] - 11s 203ms/step - loss: 0.0033\n",
      "Epoch 17/100\n",
      "52/52 [==============================] - 11s 201ms/step - loss: 0.0034\n",
      "Epoch 18/100\n",
      "52/52 [==============================] - 11s 203ms/step - loss: 0.0031\n",
      "Epoch 19/100\n",
      "52/52 [==============================] - 11s 203ms/step - loss: 0.0031\n",
      "Epoch 20/100\n",
      "52/52 [==============================] - 11s 202ms/step - loss: 0.0028\n",
      "Epoch 21/100\n",
      "52/52 [==============================] - 11s 205ms/step - loss: 0.0029\n",
      "Epoch 22/100\n",
      "52/52 [==============================] - 10s 199ms/step - loss: 0.0026\n",
      "Epoch 23/100\n",
      "52/52 [==============================] - 10s 199ms/step - loss: 0.0026\n",
      "Epoch 24/100\n",
      "52/52 [==============================] - 10s 198ms/step - loss: 0.0026\n",
      "Epoch 25/100\n",
      "52/52 [==============================] - 10s 201ms/step - loss: 0.0026\n",
      "Epoch 26/100\n",
      "52/52 [==============================] - 10s 201ms/step - loss: 0.0024\n",
      "Epoch 27/100\n",
      "52/52 [==============================] - 10s 200ms/step - loss: 0.0027\n",
      "Epoch 28/100\n",
      "52/52 [==============================] - 10s 197ms/step - loss: 0.0022\n",
      "Epoch 29/100\n",
      "52/52 [==============================] - 10s 197ms/step - loss: 0.0023\n",
      "Epoch 30/100\n",
      "52/52 [==============================] - 10s 198ms/step - loss: 0.0021\n",
      "Epoch 31/100\n",
      "52/52 [==============================] - 10s 200ms/step - loss: 0.0024\n",
      "Epoch 32/100\n",
      "52/52 [==============================] - 11s 202ms/step - loss: 0.0023\n",
      "Epoch 33/100\n",
      "52/52 [==============================] - 11s 211ms/step - loss: 0.0025\n",
      "Epoch 34/100\n",
      "52/52 [==============================] - 11s 203ms/step - loss: 0.0024\n",
      "Epoch 35/100\n",
      "52/52 [==============================] - 11s 203ms/step - loss: 0.0024\n",
      "Epoch 36/100\n",
      "52/52 [==============================] - 11s 209ms/step - loss: 0.0024\n",
      "Epoch 37/100\n",
      "52/52 [==============================] - 11s 204ms/step - loss: 0.0021\n",
      "Epoch 38/100\n",
      "52/52 [==============================] - 11s 206ms/step - loss: 0.0019\n",
      "Epoch 39/100\n",
      "52/52 [==============================] - 10s 202ms/step - loss: 0.0020\n",
      "Epoch 40/100\n",
      "52/52 [==============================] - 11s 203ms/step - loss: 0.0020\n",
      "Epoch 41/100\n",
      "52/52 [==============================] - 10s 196ms/step - loss: 0.0018\n",
      "Epoch 42/100\n",
      "52/52 [==============================] - 10s 194ms/step - loss: 0.0019\n",
      "Epoch 43/100\n",
      "52/52 [==============================] - 10s 196ms/step - loss: 0.0018\n",
      "Epoch 44/100\n",
      "52/52 [==============================] - 10s 196ms/step - loss: 0.0019\n",
      "Epoch 45/100\n",
      "52/52 [==============================] - 10s 192ms/step - loss: 0.0021\n",
      "Epoch 46/100\n",
      "52/52 [==============================] - 10s 192ms/step - loss: 0.0018\n",
      "Epoch 47/100\n",
      "52/52 [==============================] - 10s 192ms/step - loss: 0.0019\n",
      "Epoch 48/100\n",
      "52/52 [==============================] - 10s 193ms/step - loss: 0.0019\n",
      "Epoch 49/100\n",
      "52/52 [==============================] - 10s 193ms/step - loss: 0.0017\n",
      "Epoch 50/100\n",
      "52/52 [==============================] - 10s 192ms/step - loss: 0.0019\n",
      "Epoch 51/100\n",
      "52/52 [==============================] - 10s 193ms/step - loss: 0.0017\n",
      "Epoch 52/100\n",
      "52/52 [==============================] - 10s 193ms/step - loss: 0.0019\n",
      "Epoch 53/100\n",
      "52/52 [==============================] - 10s 192ms/step - loss: 0.0017\n",
      "Epoch 54/100\n",
      "52/52 [==============================] - 10s 192ms/step - loss: 0.0017\n",
      "Epoch 55/100\n",
      "52/52 [==============================] - 10s 194ms/step - loss: 0.0016\n",
      "Epoch 56/100\n",
      "52/52 [==============================] - 10s 193ms/step - loss: 0.0015\n",
      "Epoch 57/100\n",
      "52/52 [==============================] - 10s 193ms/step - loss: 0.0017\n",
      "Epoch 58/100\n",
      "52/52 [==============================] - 10s 194ms/step - loss: 0.0016\n",
      "Epoch 59/100\n",
      "52/52 [==============================] - 10s 194ms/step - loss: 0.0017\n",
      "Epoch 60/100\n",
      "52/52 [==============================] - 10s 194ms/step - loss: 0.0016\n",
      "Epoch 61/100\n",
      "52/52 [==============================] - 10s 194ms/step - loss: 0.0016\n",
      "Epoch 62/100\n",
      "52/52 [==============================] - 10s 194ms/step - loss: 0.0017\n",
      "Epoch 63/100\n",
      "52/52 [==============================] - 10s 193ms/step - loss: 0.0014\n",
      "Epoch 64/100\n",
      "52/52 [==============================] - 10s 193ms/step - loss: 0.0017\n",
      "Epoch 65/100\n",
      "52/52 [==============================] - 10s 193ms/step - loss: 0.0016\n",
      "Epoch 66/100\n",
      "52/52 [==============================] - 10s 193ms/step - loss: 0.0017\n",
      "Epoch 67/100\n",
      "52/52 [==============================] - 10s 194ms/step - loss: 0.0016\n",
      "Epoch 68/100\n",
      "52/52 [==============================] - 10s 194ms/step - loss: 0.0017\n",
      "Epoch 69/100\n",
      "52/52 [==============================] - 10s 195ms/step - loss: 0.0017\n",
      "Epoch 70/100\n",
      "52/52 [==============================] - 10s 198ms/step - loss: 0.0018\n",
      "Epoch 71/100\n",
      "52/52 [==============================] - 11s 213ms/step - loss: 0.0016\n",
      "Epoch 72/100\n",
      "52/52 [==============================] - 11s 207ms/step - loss: 0.0017\n",
      "Epoch 73/100\n",
      "52/52 [==============================] - 12s 238ms/step - loss: 0.0016\n",
      "Epoch 74/100\n",
      "52/52 [==============================] - 11s 210ms/step - loss: 0.0016\n",
      "Epoch 75/100\n",
      "52/52 [==============================] - 11s 208ms/step - loss: 0.0015\n",
      "Epoch 76/100\n",
      "52/52 [==============================] - 11s 208ms/step - loss: 0.0016\n",
      "Epoch 77/100\n",
      "52/52 [==============================] - 11s 205ms/step - loss: 0.0014\n",
      "Epoch 78/100\n",
      "52/52 [==============================] - 11s 207ms/step - loss: 0.0014\n",
      "Epoch 79/100\n",
      "52/52 [==============================] - 11s 205ms/step - loss: 0.0014\n",
      "Epoch 80/100\n",
      "52/52 [==============================] - 11s 206ms/step - loss: 0.0015\n",
      "Epoch 81/100\n",
      "52/52 [==============================] - 11s 206ms/step - loss: 0.0016\n",
      "Epoch 82/100\n",
      "52/52 [==============================] - 11s 206ms/step - loss: 0.0016\n",
      "Epoch 83/100\n",
      "52/52 [==============================] - 11s 206ms/step - loss: 0.0014\n",
      "Epoch 84/100\n",
      "52/52 [==============================] - 11s 208ms/step - loss: 0.0015\n",
      "Epoch 85/100\n",
      "52/52 [==============================] - 11s 207ms/step - loss: 0.0015\n",
      "Epoch 86/100\n",
      "52/52 [==============================] - 11s 206ms/step - loss: 0.0017\n",
      "Epoch 87/100\n",
      "52/52 [==============================] - 11s 207ms/step - loss: 0.0014\n",
      "Epoch 88/100\n",
      "52/52 [==============================] - 11s 205ms/step - loss: 0.0015\n",
      "Epoch 89/100\n",
      "52/52 [==============================] - 11s 207ms/step - loss: 0.0016\n",
      "Epoch 90/100\n",
      "52/52 [==============================] - 11s 205ms/step - loss: 0.0017\n",
      "Epoch 91/100\n",
      "52/52 [==============================] - 11s 204ms/step - loss: 0.0016\n",
      "Epoch 92/100\n",
      "52/52 [==============================] - 11s 205ms/step - loss: 0.0015\n",
      "Epoch 93/100\n",
      "52/52 [==============================] - 11s 206ms/step - loss: 0.0017\n",
      "Epoch 94/100\n",
      "52/52 [==============================] - 11s 204ms/step - loss: 0.0016\n",
      "Epoch 95/100\n",
      "52/52 [==============================] - 11s 205ms/step - loss: 0.0014\n",
      "Epoch 96/100\n",
      "52/52 [==============================] - 11s 205ms/step - loss: 0.0017\n",
      "Epoch 97/100\n",
      "52/52 [==============================] - 11s 204ms/step - loss: 0.0013\n",
      "Epoch 98/100\n",
      "52/52 [==============================] - 11s 204ms/step - loss: 0.0016\n",
      "Epoch 99/100\n",
      "52/52 [==============================] - 11s 203ms/step - loss: 0.0015\n",
      "Epoch 100/100\n",
      "52/52 [==============================] - 11s 205ms/step - loss: 0.0013\n"
     ]
    },
    {
     "data": {
      "text/plain": [
       "<keras.callbacks.History at 0x1bc713c3490>"
      ]
     },
     "execution_count": 36,
     "metadata": {},
     "output_type": "execute_result"
    }
   ],
   "source": [
    "model.compile(optimizer = 'adam', loss = 'mean_squared_error')\n",
    "model.fit(x_train, y_train, epochs = 100)"
   ]
  },
  {
   "cell_type": "code",
   "execution_count": 37,
   "id": "ceb8acd5-c7b2-49f7-b6a9-62ba4584b9f8",
   "metadata": {},
   "outputs": [],
   "source": [
    "model.save('keras_model.h5')"
   ]
  },
  {
   "cell_type": "code",
   "execution_count": null,
   "id": "ce9e8c14-737d-414c-8289-200c6f0d70c0",
   "metadata": {},
   "outputs": [],
   "source": []
  }
 ],
 "metadata": {
  "kernelspec": {
   "display_name": "env1",
   "language": "python",
   "name": "env1"
  },
  "language_info": {
   "codemirror_mode": {
    "name": "ipython",
    "version": 3
   },
   "file_extension": ".py",
   "mimetype": "text/x-python",
   "name": "python",
   "nbconvert_exporter": "python",
   "pygments_lexer": "ipython3",
   "version": "3.11.4"
  }
 },
 "nbformat": 4,
 "nbformat_minor": 5
}
